{
 "cells": [
  {
   "cell_type": "code",
   "execution_count": 4,
   "id": "d7871f24",
   "metadata": {},
   "outputs": [],
   "source": [
    "from palantir.palantir import Palantir\n",
    "from palantir.simulation import Simulation\n",
    "from palantir.types import (\n",
    "    Currency,\n",
    ")\n",
    "from palantir.util import (\n",
    "    init_price_db,\n",
    ")\n",
    "\n",
    "\n",
    "def run_simulation():\n",
    "    hours = 2000\n",
    "    tokens = [\n",
    "        Currency(\"bitcoin\"),\n",
    "        Currency(\"ethereum\"),\n",
    "        Currency(\"dai\"),\n",
    "    ]\n",
    "\n",
    "    db = init_price_db(tokens, hours)\n",
    "\n",
    "    def build_simulation():\n",
    "        # TODO return a valid simulation object\n",
    "        pass\n",
    "    \n",
    "    palantir = Palantir(\n",
    "        simulation_factory=build_simulation,\n",
    "        simulations_number=1,\n",
    "    )\n",
    "    \n",
    "    # palantir.run()"
   ]
  },
  {
   "cell_type": "code",
   "execution_count": null,
   "id": "4f3cf9e2",
   "metadata": {},
   "outputs": [],
   "source": []
  }
 ],
 "metadata": {
  "kernelspec": {
   "display_name": "Python 3 (ipykernel)",
   "language": "python",
   "name": "python3"
  },
  "language_info": {
   "codemirror_mode": {
    "name": "ipython",
    "version": 3
   },
   "file_extension": ".py",
   "mimetype": "text/x-python",
   "name": "python",
   "nbconvert_exporter": "python",
   "pygments_lexer": "ipython3",
   "version": "3.8.10"
  }
 },
 "nbformat": 4,
 "nbformat_minor": 5
}
